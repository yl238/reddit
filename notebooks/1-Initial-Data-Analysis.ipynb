{
 "cells": [
  {
   "cell_type": "markdown",
   "metadata": {},
   "source": [
    "# First look at the data\n",
    "* Text data are difficult to deal with because they are non-structured\n",
    "* Reddit data is particularly dirty (lots of non-ascii characters, punctuations and incomplete sentences)\n",
    "\n",
    "Here we have the raw data extracted by the scraper, along with the labels of the categories we assigned to them."
   ]
  },
  {
   "cell_type": "code",
   "execution_count": 74,
   "metadata": {},
   "outputs": [],
   "source": [
    "file = '../datasets/reddit_raw_with_labels.csv'"
   ]
  },
  {
   "cell_type": "code",
   "execution_count": 75,
   "metadata": {},
   "outputs": [],
   "source": [
    "df = pd.read_csv(file)"
   ]
  },
  {
   "cell_type": "code",
   "execution_count": 76,
   "metadata": {},
   "outputs": [
    {
     "data": {
      "text/html": [
       "<div>\n",
       "<style scoped>\n",
       "    .dataframe tbody tr th:only-of-type {\n",
       "        vertical-align: middle;\n",
       "    }\n",
       "\n",
       "    .dataframe tbody tr th {\n",
       "        vertical-align: top;\n",
       "    }\n",
       "\n",
       "    .dataframe thead th {\n",
       "        text-align: right;\n",
       "    }\n",
       "</style>\n",
       "<table border=\"1\" class=\"dataframe\">\n",
       "  <thead>\n",
       "    <tr style=\"text-align: right;\">\n",
       "      <th></th>\n",
       "      <th>title</th>\n",
       "      <th>score</th>\n",
       "      <th>num_comments</th>\n",
       "      <th>created_at</th>\n",
       "      <th>body</th>\n",
       "      <th>category_sl</th>\n",
       "      <th>majority_vote</th>\n",
       "      <th>label</th>\n",
       "    </tr>\n",
       "  </thead>\n",
       "  <tbody>\n",
       "    <tr>\n",
       "      <th>0</th>\n",
       "      <td>Live conversation via phone</td>\n",
       "      <td>3</td>\n",
       "      <td>2</td>\n",
       "      <td>8/27/20 16:26</td>\n",
       "      <td>Hi guys I m quite confused. So i started this ...</td>\n",
       "      <td>live convo</td>\n",
       "      <td>live convo</td>\n",
       "      <td>live convo</td>\n",
       "    </tr>\n",
       "    <tr>\n",
       "      <th>1</th>\n",
       "      <td>What's a test with the most steps you've ever ...</td>\n",
       "      <td>6</td>\n",
       "      <td>9</td>\n",
       "      <td>8/27/20 11:19</td>\n",
       "      <td>I got one with 57 steps a while back, and just...</td>\n",
       "      <td>bad test</td>\n",
       "      <td>bad test</td>\n",
       "      <td>bad test</td>\n",
       "    </tr>\n",
       "    <tr>\n",
       "      <th>2</th>\n",
       "      <td>Preparing for Live Conversation</td>\n",
       "      <td>1</td>\n",
       "      <td>4</td>\n",
       "      <td>8/27/20 10:44</td>\n",
       "      <td>Hi! Iâ€™ve been scheduled for a Live Test on A...</td>\n",
       "      <td>live convo</td>\n",
       "      <td>live convo</td>\n",
       "      <td>live convo</td>\n",
       "    </tr>\n",
       "    <tr>\n",
       "      <th>3</th>\n",
       "      <td>Mobile Test</td>\n",
       "      <td>0</td>\n",
       "      <td>8</td>\n",
       "      <td>8/27/20 6:50</td>\n",
       "      <td>Hey yâ€™all...Iâ€™m about to take a test on my...</td>\n",
       "      <td>mobile</td>\n",
       "      <td>mobile</td>\n",
       "      <td>mobile</td>\n",
       "    </tr>\n",
       "    <tr>\n",
       "      <th>4</th>\n",
       "      <td>Curious about message</td>\n",
       "      <td>1</td>\n",
       "      <td>7</td>\n",
       "      <td>8/27/20 6:49</td>\n",
       "      <td>&amp;#x200B; [Anyone know what this is?](https://p...</td>\n",
       "      <td>other</td>\n",
       "      <td>other</td>\n",
       "      <td>other</td>\n",
       "    </tr>\n",
       "  </tbody>\n",
       "</table>\n",
       "</div>"
      ],
      "text/plain": [
       "                                               title  score  num_comments  \\\n",
       "0                        Live conversation via phone      3             2   \n",
       "1  What's a test with the most steps you've ever ...      6             9   \n",
       "2                    Preparing for Live Conversation      1             4   \n",
       "3                                        Mobile Test      0             8   \n",
       "4                              Curious about message      1             7   \n",
       "\n",
       "      created_at                                               body  \\\n",
       "0  8/27/20 16:26  Hi guys I m quite confused. So i started this ...   \n",
       "1  8/27/20 11:19  I got one with 57 steps a while back, and just...   \n",
       "2  8/27/20 10:44  Hi! Iâ€™ve been scheduled for a Live Test on A...   \n",
       "3   8/27/20 6:50  Hey yâ€™all...Iâ€™m about to take a test on my...   \n",
       "4   8/27/20 6:49  &#x200B; [Anyone know what this is?](https://p...   \n",
       "\n",
       "  category_sl majority_vote       label  \n",
       "0  live convo    live convo  live convo  \n",
       "1    bad test      bad test    bad test  \n",
       "2  live convo    live convo  live convo  \n",
       "3      mobile        mobile      mobile  \n",
       "4       other         other       other  "
      ]
     },
     "execution_count": 76,
     "metadata": {},
     "output_type": "execute_result"
    }
   ],
   "source": [
    "df.head()"
   ]
  },
  {
   "cell_type": "markdown",
   "metadata": {},
   "source": [
    "Let's use the `label` column, which takes the top 100 labels of the `majority_vote`, and fill the rest with `category_sl`."
   ]
  },
  {
   "cell_type": "code",
   "execution_count": 78,
   "metadata": {},
   "outputs": [],
   "source": [
    "from sklearn.feature_extraction.text import CountVectorizer"
   ]
  },
  {
   "cell_type": "code",
   "execution_count": 79,
   "metadata": {},
   "outputs": [],
   "source": [
    "text = df['title'][0]"
   ]
  },
  {
   "cell_type": "code",
   "execution_count": 81,
   "metadata": {},
   "outputs": [],
   "source": [
    "vectorizer = CountVectorizer()"
   ]
  },
  {
   "cell_type": "code",
   "execution_count": 83,
   "metadata": {},
   "outputs": [
    {
     "data": {
      "text/plain": [
       "CountVectorizer()"
      ]
     },
     "execution_count": 83,
     "metadata": {},
     "output_type": "execute_result"
    }
   ],
   "source": [
    "vectorizer.fit([text])"
   ]
  },
  {
   "cell_type": "code",
   "execution_count": 84,
   "metadata": {},
   "outputs": [
    {
     "data": {
      "text/plain": [
       "{'live': 1, 'conversation': 0, 'via': 3, 'phone': 2}"
      ]
     },
     "execution_count": 84,
     "metadata": {},
     "output_type": "execute_result"
    }
   ],
   "source": [
    "vectorizer.vocabulary_"
   ]
  },
  {
   "cell_type": "code",
   "execution_count": 77,
   "metadata": {},
   "outputs": [
    {
     "data": {
      "text/plain": [
       "0                            Live conversation via phone\n",
       "1      What's a test with the most steps you've ever ...\n",
       "2                        Preparing for Live Conversation\n",
       "3                                            Mobile Test\n",
       "4                                  Curious about message\n",
       "                             ...                        \n",
       "494    I now earn more with Usertesting than my full ...\n",
       "495    iPhone Issue - Screener proceeds to next quest...\n",
       "496       usertesting \" Test in progress for over 2days\"\n",
       "497    Received UserTesting payment for first test, b...\n",
       "498                              Tests for wrong country\n",
       "Name: title, Length: 499, dtype: object"
      ]
     },
     "execution_count": 77,
     "metadata": {},
     "output_type": "execute_result"
    }
   ],
   "source": [
    "df_title_only = df[['title', 'label']]"
   ]
  },
  {
   "cell_type": "code",
   "execution_count": 85,
   "metadata": {},
   "outputs": [
    {
     "data": {
      "text/plain": [
       "other            144\n",
       "bad test          55\n",
       "screeners         52\n",
       "ratings           43\n",
       "recorder          42\n",
       "live convo        41\n",
       "mobile            37\n",
       "no test           32\n",
       "bug               29\n",
       "payment           20\n",
       "other company      1\n",
       "Name: label, dtype: int64"
      ]
     },
     "execution_count": 85,
     "metadata": {},
     "output_type": "execute_result"
    }
   ],
   "source": [
    "df['label'].value_counts()"
   ]
  },
  {
   "cell_type": "code",
   "execution_count": null,
   "metadata": {},
   "outputs": [],
   "source": []
  }
 ],
 "metadata": {
  "kernelspec": {
   "display_name": "Python 3",
   "language": "python",
   "name": "python3"
  },
  "language_info": {
   "codemirror_mode": {
    "name": "ipython",
    "version": 3
   },
   "file_extension": ".py",
   "mimetype": "text/x-python",
   "name": "python",
   "nbconvert_exporter": "python",
   "pygments_lexer": "ipython3",
   "version": "3.7.7"
  }
 },
 "nbformat": 4,
 "nbformat_minor": 2
}
