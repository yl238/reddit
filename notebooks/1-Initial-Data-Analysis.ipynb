{
 "cells": [
  {
   "cell_type": "markdown",
   "metadata": {},
   "source": [
    "# First look at the data\n",
    "* Text data are difficult to deal with because they are non-structured\n",
    "* Reddit data is particularly dirty (lots of non-ascii characters, punctuations and incomplete sentences)\n",
    "\n",
    "Here we have the raw data extracted by the scraper, along with the labels of the categories we assigned to them."
   ]
  },
  {
   "cell_type": "code",
   "execution_count": 4,
   "metadata": {},
   "outputs": [],
   "source": [
    "import pandas as pd\n",
    "import re\n",
    "import unicodedata\n",
    "import inflect\n",
    "import contractions\n",
    "import string\n",
    "from sklearn.base import BaseEstimator, TransformerMixin\n",
    "import spacy\n",
    "nlp = spacy.load('en_core_web_sm')"
   ]
  },
  {
   "cell_type": "code",
   "execution_count": 109,
   "metadata": {},
   "outputs": [],
   "source": [
    "file = '../datasets/reddit_raw_with_labels.csv'"
   ]
  },
  {
   "cell_type": "code",
   "execution_count": 118,
   "metadata": {},
   "outputs": [],
   "source": [
    "class ValidTextCreator(BaseEstimator, TransformerMixin):\n",
    "    LABELS = ['other', 'screeners', 'bad test', 'ratings', 'recorder', 'live convo', 'no test', 'mobile', 'bug', 'payment']\n",
    "    VALID_COLS = ['title', 'score', 'num_comments', 'created_at', 'text', 'label']\n",
    "    def __init__(self, cols_to_drop_na=None):\n",
    "        if not isinstance(cols_to_drop_na, list):\n",
    "            self.cols = [cols_to_drop_na]\n",
    "        else:\n",
    "            self.cols = cols_to_drop_na\n",
    "        \n",
    "    def _drop_na(self, X):\n",
    "        return X.dropna(subset=self.cols)\n",
    "    \n",
    "    def _get_valid_labels_only(self, X):\n",
    "        return X[X['label'].isin(self.LABELS)]\n",
    "    \n",
    "    def _concatenate_title_body(self, X):\n",
    "        X['text'] = X['title'].fillna('') + ' ' + df['body'].fillna('')\n",
    "        return X\n",
    "    \n",
    "    def fit(self, X, y=None):\n",
    "        return self\n",
    "    \n",
    "    def transform(self, X):\n",
    "        X = X.copy()\n",
    "        X = self._drop_na(X)\n",
    "        X = self._get_valid_labels_only(X)\n",
    "        X = self._concatenate_title_body(X)\n",
    "        X = X[self.VALID_COLS]\n",
    "        return X"
   ]
  },
  {
   "cell_type": "code",
   "execution_count": 119,
   "metadata": {},
   "outputs": [],
   "source": [
    "df = pd.read_csv(file)"
   ]
  },
  {
   "cell_type": "code",
   "execution_count": 120,
   "metadata": {},
   "outputs": [],
   "source": [
    "creator = ValidTextCreator(cols_to_drop_na='label')"
   ]
  },
  {
   "cell_type": "code",
   "execution_count": 122,
   "metadata": {},
   "outputs": [],
   "source": [
    "cleaned_df = creator.transform(df)"
   ]
  },
  {
   "cell_type": "markdown",
   "metadata": {},
   "source": [
    "Let's use the `label` column, which takes the top 100 labels of the `majority_vote`, and fill the rest with `category_sl`."
   ]
  },
  {
   "cell_type": "code",
   "execution_count": 124,
   "metadata": {},
   "outputs": [],
   "source": [
    "class TextCleaner(BaseEstimator, TransformerMixin):\n",
    "    def __init__(self, variables=None):\n",
    "        if not isinstance(variables, list):\n",
    "            self.variables = [variables]\n",
    "        else:\n",
    "            self.variables = variables\n",
    "            \n",
    "    def _remove_https_links(self, text):\n",
    "        return re.sub(r'https?://\\S+', '', text, flags=re.MULTILINE)\n",
    "\n",
    "    def _replace_non_alphanumeric(self, text):\n",
    "        return re.sub(r'[^\\w\\'\\$ ]', ' ', text, flags=re.MULTILINE)\n",
    "\n",
    "    def _denoise_text(self, text):\n",
    "        text = self._remove_https_links(text)\n",
    "        text = self._replace_non_alphanumeric(text)\n",
    "        return text\n",
    "\n",
    "    def _replace_contractions(self, text):\n",
    "        return contractions.fix(text)\n",
    "\n",
    "    def _normalize(self, text):\n",
    "        text = self._denoise_text(text)\n",
    "        text = self._replace_contractions(text)\n",
    "        return text.lower()\n",
    "                    \n",
    "    def fit(self, X, y=None):\n",
    "        return self\n",
    "    \n",
    "    def transform(self, X):\n",
    "        X = X.copy()\n",
    "        for features in self.variables:\n",
    "            X[features] = X[features].apply(self._normalize)\n",
    "        return X"
   ]
  },
  {
   "cell_type": "code",
   "execution_count": 125,
   "metadata": {},
   "outputs": [],
   "source": [
    "cleaner = TextCleaner('text')"
   ]
  },
  {
   "cell_type": "code",
   "execution_count": 127,
   "metadata": {},
   "outputs": [],
   "source": [
    "df = cleaner.transform(cleaned_df)"
   ]
  },
  {
   "cell_type": "code",
   "execution_count": 129,
   "metadata": {},
   "outputs": [],
   "source": [
    "STOPWORD_EXCEPTIONS = [\"whatever\", \"whenever\", \"about\", \"nothing\", \"empty\", \"none\", \"more\", \"somewhere\", \"most\", \"not\", \"never\"]"
   ]
  },
  {
   "cell_type": "code",
   "execution_count": 130,
   "metadata": {
    "scrolled": true
   },
   "outputs": [],
   "source": [
    "import spacy    \n",
    "nlp = spacy.load(\"en_core_web_sm\")\n",
    "nlp.Defaults.stop_words -= set(STOPWORD_EXCEPTIONS)"
   ]
  },
  {
   "cell_type": "code",
   "execution_count": 131,
   "metadata": {},
   "outputs": [],
   "source": [
    "class TextTokenizer(BaseEstimator, TransformerMixin):\n",
    "    def __init__(self, variables=None):\n",
    "        if not isinstance(variables, list):\n",
    "            self.variables = [variables]\n",
    "        else:\n",
    "            self.variables = variables\n",
    "            \n",
    "    def _lemmatize_and_remove_stop_words(self, text):\n",
    "        return [t.lemma_ for t in nlp(text) if not t.is_stop and len(t.lemma_) > 1]\n",
    "    \n",
    "    def _remove_non_ascii(self, words):\n",
    "        \"\"\"Remove non-ASCII characters from list of tokenized words.\"\"\"\n",
    "        new_words = []\n",
    "        for word in words:\n",
    "            new_word = unicodedata.normalize('NFKD', word).encode('ascii', 'ignore').decode('utf-8', 'ignore')\n",
    "            new_words.append(new_word)\n",
    "        return new_words\n",
    "    \n",
    "    def _replace_numbers(self, words):\n",
    "        \"\"\"Replace all integer occurrences in list of tokenized words with textual representation\"\"\"\n",
    "        p = inflect.engine()\n",
    "        new_words = []\n",
    "        for word in words:\n",
    "            if word.isdigit():\n",
    "                new_word = p.number_to_words(word)\n",
    "                new_words.append(new_word)\n",
    "            else:\n",
    "                new_words.append(word)\n",
    "        return new_words\n",
    "    \n",
    "    def _normalize(self, text):\n",
    "        words = self._lemmatize_and_remove_stop_words(text)\n",
    "        words = self._remove_non_ascii(words)\n",
    "        words = self._replace_numbers(words)\n",
    "        return ' '.join(words)\n",
    "    \n",
    "    def fit(self, X, y=None):\n",
    "        return self\n",
    "    \n",
    "    def transform(self, X):\n",
    "        X = X.copy()\n",
    "        for variable in self.variables:\n",
    "            X[variable] = X[variable].apply(self._normalize)\n",
    "        return X"
   ]
  },
  {
   "cell_type": "code",
   "execution_count": 134,
   "metadata": {},
   "outputs": [],
   "source": [
    "class DropUnnecessaryFeatures(BaseEstimator, TransformerMixin):\n",
    "    def __init__(self, variables_to_drop=None):\n",
    "        self.variables = variables_to_drop\n",
    "        \n",
    "    def fit(self, X, y=None):\n",
    "        return self\n",
    "    \n",
    "    def transform(self, X):\n",
    "        X = X.copy()\n",
    "        X = X.drop(self, self.variables, axis=1)\n",
    "        return X"
   ]
  },
  {
   "cell_type": "code",
   "execution_count": 132,
   "metadata": {},
   "outputs": [],
   "source": [
    "tokenizer = TextTokenizer('text')"
   ]
  },
  {
   "cell_type": "code",
   "execution_count": 133,
   "metadata": {},
   "outputs": [],
   "source": [
    "df = tokenizer.transform(df)"
   ]
  },
  {
   "cell_type": "code",
   "execution_count": 143,
   "metadata": {},
   "outputs": [],
   "source": [
    "from sklearn.feature_extraction.text import CountVectorizer, TfidfVectorizer"
   ]
  },
  {
   "cell_type": "code",
   "execution_count": 144,
   "metadata": {},
   "outputs": [],
   "source": [
    "vectorizer = TfidfVectorizer(analyzer='word', ngram_range=(1, 2), max_features=1500)"
   ]
  },
  {
   "cell_type": "code",
   "execution_count": 150,
   "metadata": {},
   "outputs": [],
   "source": [
    "X_train = vectorizer.fit_transform(train_df['text'])"
   ]
  },
  {
   "cell_type": "code",
   "execution_count": 155,
   "metadata": {},
   "outputs": [],
   "source": [
    "X_test = vectorizer.transform(test_df['text'])"
   ]
  },
  {
   "cell_type": "code",
   "execution_count": 146,
   "metadata": {},
   "outputs": [],
   "source": [
    "from sklearn.ensemble import RandomForestClassifier"
   ]
  },
  {
   "cell_type": "code",
   "execution_count": 152,
   "metadata": {},
   "outputs": [],
   "source": [
    "rf_model = RandomForestClassifier(n_estimators=100, random_state=42)"
   ]
  },
  {
   "cell_type": "code",
   "execution_count": 153,
   "metadata": {},
   "outputs": [
    {
     "data": {
      "text/plain": [
       "RandomForestClassifier(random_state=42)"
      ]
     },
     "execution_count": 153,
     "metadata": {},
     "output_type": "execute_result"
    }
   ],
   "source": [
    "rf_model.fit(X_train, train_df['label'])"
   ]
  },
  {
   "cell_type": "code",
   "execution_count": 157,
   "metadata": {},
   "outputs": [],
   "source": [
    "y_pred = rf_model.predict(X_test)"
   ]
  },
  {
   "cell_type": "code",
   "execution_count": 158,
   "metadata": {},
   "outputs": [],
   "source": [
    "y_true = test_df['label']"
   ]
  },
  {
   "cell_type": "code",
   "execution_count": 159,
   "metadata": {},
   "outputs": [],
   "source": [
    "from sklearn.metrics import classification_report"
   ]
  },
  {
   "cell_type": "code",
   "execution_count": 161,
   "metadata": {},
   "outputs": [
    {
     "name": "stdout",
     "output_type": "stream",
     "text": [
      "              precision    recall  f1-score   support\n",
      "\n",
      "    bad test       0.40      0.12      0.19        16\n",
      "         bug       0.00      0.00      0.00         4\n",
      "  live convo       1.00      0.82      0.90        11\n",
      "      mobile       0.80      0.44      0.57         9\n",
      "     no test       0.00      0.00      0.00         3\n",
      "       other       0.36      0.91      0.52        23\n",
      "     payment       0.00      0.00      0.00         5\n",
      "     ratings       0.80      0.73      0.76        11\n",
      "    recorder       0.62      0.45      0.53        11\n",
      "   screeners       1.00      0.67      0.80         6\n",
      "\n",
      "    accuracy                           0.54        99\n",
      "   macro avg       0.50      0.41      0.43        99\n",
      "weighted avg       0.55      0.54      0.49        99\n",
      "\n"
     ]
    },
    {
     "name": "stderr",
     "output_type": "stream",
     "text": [
      "/Users/sliu/UserTesting/reddit/venv/lib/python3.7/site-packages/sklearn/metrics/_classification.py:1221: UndefinedMetricWarning: Precision and F-score are ill-defined and being set to 0.0 in labels with no predicted samples. Use `zero_division` parameter to control this behavior.\n",
      "  _warn_prf(average, modifier, msg_start, len(result))\n"
     ]
    }
   ],
   "source": [
    "print(classification_report(y_true, y_pred))"
   ]
  },
  {
   "cell_type": "code",
   "execution_count": 137,
   "metadata": {},
   "outputs": [],
   "source": [
    "n_test = int(len(df)*0.2)"
   ]
  },
  {
   "cell_type": "code",
   "execution_count": 138,
   "metadata": {},
   "outputs": [],
   "source": [
    "train_df, test_df = df.iloc[n_test:, :], df.iloc[:n_test, :]"
   ]
  },
  {
   "cell_type": "code",
   "execution_count": null,
   "metadata": {},
   "outputs": [],
   "source": [
    "variables_to_drop = ['title', 'score', 'num_comments', 'created_at', 'text']"
   ]
  },
  {
   "cell_type": "code",
   "execution_count": 87,
   "metadata": {},
   "outputs": [
    {
     "data": {
      "text/plain": [
       "other            121\n",
       "screeners         46\n",
       "bad test          39\n",
       "ratings           32\n",
       "recorder          31\n",
       "live convo        30\n",
       "no test           29\n",
       "mobile            28\n",
       "bug               25\n",
       "payment           15\n",
       "other company      1\n",
       "Name: label, dtype: int64"
      ]
     },
     "execution_count": 87,
     "metadata": {},
     "output_type": "execute_result"
    }
   ],
   "source": [
    "train_df['label'].value_counts()"
   ]
  },
  {
   "cell_type": "code",
   "execution_count": null,
   "metadata": {},
   "outputs": [],
   "source": []
  }
 ],
 "metadata": {
  "kernelspec": {
   "display_name": "Python 3",
   "language": "python",
   "name": "python3"
  },
  "language_info": {
   "codemirror_mode": {
    "name": "ipython",
    "version": 3
   },
   "file_extension": ".py",
   "mimetype": "text/x-python",
   "name": "python",
   "nbconvert_exporter": "python",
   "pygments_lexer": "ipython3",
   "version": "3.7.7"
  }
 },
 "nbformat": 4,
 "nbformat_minor": 2
}
