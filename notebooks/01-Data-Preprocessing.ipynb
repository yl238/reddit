{
 "cells": [
  {
   "cell_type": "code",
   "execution_count": 60,
   "metadata": {},
   "outputs": [],
   "source": [
    "import string\n",
    "import numpy as np\n",
    "import pandas as pd\n",
    "import matplotlib.pyplot as plt\n",
    "import spacy\n",
    "\n",
    "pd.set_option('display.max_colwidth', 50)\n",
    "plt.style.use(['seaborn-whitegrid', 'seaborn-poster'])"
   ]
  },
  {
   "cell_type": "code",
   "execution_count": null,
   "metadata": {},
   "outputs": [],
   "source": [
    "# Run this line to install the SpaCy English language model.\n",
    "!python -m spacy download en_core_web_sm"
   ]
  },
  {
   "cell_type": "code",
   "execution_count": null,
   "metadata": {},
   "outputs": [],
   "source": []
  },
  {
   "cell_type": "markdown",
   "metadata": {},
   "source": [
    "First we load some raw post data from a CSV file."
   ]
  },
  {
   "cell_type": "code",
   "execution_count": 47,
   "metadata": {},
   "outputs": [],
   "source": [
    "posts_file = '../src/reddit_raw_with_labels.csv'\n",
    "df_posts = pd.read_csv(posts_file)\n",
    "df_posts['created_at'] = pd.to_datetime(df_posts['created_at'])"
   ]
  },
  {
   "cell_type": "code",
   "execution_count": 48,
   "metadata": {},
   "outputs": [],
   "source": [
    "df_posts['label'] = df_posts['majority_vote']\n",
    "df_posts['label'] = df_posts['label'].fillna(df_posts['category_sl'])\n",
    "df_posts['label'] = df_posts['label'].astype('category')\n",
    "df_posts = df_posts.drop(columns=['majority_vote', 'category_sl'])"
   ]
  },
  {
   "cell_type": "code",
   "execution_count": null,
   "metadata": {},
   "outputs": [],
   "source": []
  },
  {
   "cell_type": "markdown",
   "metadata": {},
   "source": [
    "## Exploratory Data Analysis\n",
    "\n",
    "Exploratory data analysis is commonly the first step when starting a data science project, It give a better understanding of the data and helps to identify any issues that might otherwise be missed (for example missing data, inconsistent column values etc.)."
   ]
  },
  {
   "cell_type": "code",
   "execution_count": 49,
   "metadata": {},
   "outputs": [
    {
     "data": {
      "text/html": [
       "<div>\n",
       "<style scoped>\n",
       "    .dataframe tbody tr th:only-of-type {\n",
       "        vertical-align: middle;\n",
       "    }\n",
       "\n",
       "    .dataframe tbody tr th {\n",
       "        vertical-align: top;\n",
       "    }\n",
       "\n",
       "    .dataframe thead th {\n",
       "        text-align: right;\n",
       "    }\n",
       "</style>\n",
       "<table border=\"1\" class=\"dataframe\">\n",
       "  <thead>\n",
       "    <tr style=\"text-align: right;\">\n",
       "      <th></th>\n",
       "      <th>title</th>\n",
       "      <th>score</th>\n",
       "      <th>num_comments</th>\n",
       "      <th>created_at</th>\n",
       "      <th>body</th>\n",
       "      <th>label</th>\n",
       "    </tr>\n",
       "  </thead>\n",
       "  <tbody>\n",
       "    <tr>\n",
       "      <th>0</th>\n",
       "      <td>Live conversation via phone</td>\n",
       "      <td>3</td>\n",
       "      <td>2</td>\n",
       "      <td>2020-08-27 16:26:00</td>\n",
       "      <td>Hi guys I m quite confused. So i started this ...</td>\n",
       "      <td>live convo</td>\n",
       "    </tr>\n",
       "    <tr>\n",
       "      <th>1</th>\n",
       "      <td>What's a test with the most steps you've ever ...</td>\n",
       "      <td>6</td>\n",
       "      <td>9</td>\n",
       "      <td>2020-08-27 11:19:00</td>\n",
       "      <td>I got one with 57 steps a while back, and just...</td>\n",
       "      <td>bad test</td>\n",
       "    </tr>\n",
       "    <tr>\n",
       "      <th>2</th>\n",
       "      <td>Preparing for Live Conversation</td>\n",
       "      <td>1</td>\n",
       "      <td>4</td>\n",
       "      <td>2020-08-27 10:44:00</td>\n",
       "      <td>Hi! Iâ€™ve been scheduled for a Live Test on A...</td>\n",
       "      <td>live convo</td>\n",
       "    </tr>\n",
       "    <tr>\n",
       "      <th>3</th>\n",
       "      <td>Mobile Test</td>\n",
       "      <td>0</td>\n",
       "      <td>8</td>\n",
       "      <td>2020-08-27 06:50:00</td>\n",
       "      <td>Hey yâ€™all...Iâ€™m about to take a test on my...</td>\n",
       "      <td>mobile</td>\n",
       "    </tr>\n",
       "    <tr>\n",
       "      <th>4</th>\n",
       "      <td>Curious about message</td>\n",
       "      <td>1</td>\n",
       "      <td>7</td>\n",
       "      <td>2020-08-27 06:49:00</td>\n",
       "      <td>&amp;#x200B; [Anyone know what this is?](https://p...</td>\n",
       "      <td>other</td>\n",
       "    </tr>\n",
       "  </tbody>\n",
       "</table>\n",
       "</div>"
      ],
      "text/plain": [
       "                                               title  score  num_comments  \\\n",
       "0                        Live conversation via phone      3             2   \n",
       "1  What's a test with the most steps you've ever ...      6             9   \n",
       "2                    Preparing for Live Conversation      1             4   \n",
       "3                                        Mobile Test      0             8   \n",
       "4                              Curious about message      1             7   \n",
       "\n",
       "           created_at                                               body  \\\n",
       "0 2020-08-27 16:26:00  Hi guys I m quite confused. So i started this ...   \n",
       "1 2020-08-27 11:19:00  I got one with 57 steps a while back, and just...   \n",
       "2 2020-08-27 10:44:00  Hi! Iâ€™ve been scheduled for a Live Test on A...   \n",
       "3 2020-08-27 06:50:00  Hey yâ€™all...Iâ€™m about to take a test on my...   \n",
       "4 2020-08-27 06:49:00  &#x200B; [Anyone know what this is?](https://p...   \n",
       "\n",
       "        label  \n",
       "0  live convo  \n",
       "1    bad test  \n",
       "2  live convo  \n",
       "3      mobile  \n",
       "4       other  "
      ]
     },
     "execution_count": 49,
     "metadata": {},
     "output_type": "execute_result"
    }
   ],
   "source": [
    "df_posts.head()"
   ]
  },
  {
   "cell_type": "code",
   "execution_count": 50,
   "metadata": {},
   "outputs": [
    {
     "name": "stdout",
     "output_type": "stream",
     "text": [
      "-------------------------\n",
      "What is the right answer for your cellphone provider?!\n",
      "\n",
      "So I always answer the screeners honestly and every single time in the last 4-5 months I have answered AT&T it screens me out. Just dying to know what the \"right\" answer is because I'm too honest to try all the other options to actually find out.\n",
      "\n",
      "screeners\n",
      "\n",
      "-------------------------\n",
      "Multiple tests have failed to upload in recent weeks\n",
      "\n",
      "In the past 3 weeks I have had 3 completed tests fail to upload no matter what I try. Support has not replied to me at all and I haven't been paid for the 3. I don't know what else to try. I've completed around 30 other tests that uploaded successfully in that time span so I know it's not on my end.\n",
      "\n",
      "recorder\n",
      "\n",
      "-------------------------\n",
      "Unpaid recruitment test through regular test recorder\n",
      "\n",
      "I've never seen this before. I accepted a test, and it wanted me to fill out a recruitment survey for future tests. I filled it out, then submitted it as usual, figured it would just be $0 or something. Then I realized they wanted me to quit the test instead. Usually these kinds of recruitments show up at the top of the page, with only a direct link to the survey. How confusing. Anyone ever encounter this before? I contacted support, so hopefully they will be able to resolve this. If anyone sees the same test, don't do what I did.\n",
      "\n",
      "other\n",
      "\n",
      "-------------------------\n",
      "Do all live conversations require you to have a webcam?\n",
      "\n",
      "I have been qualified for a few live conversations. But my laptop doesn't have a built-in webcam and I currently cannot buy an external one. So I end up declining the ones I get qualified for.\n",
      "\n",
      "live convo\n",
      "\n",
      "-------------------------\n",
      "Ok we get it the answer is not the US\n",
      "\n",
      "nan\n",
      "\n",
      "other\n",
      "\n"
     ]
    }
   ],
   "source": [
    "for i, row in df_posts[~df_posts['label'].isnull()].sample(n=5, random_state=100).iterrows():\n",
    "    print('-------------------------')\n",
    "    print(row['title'])\n",
    "    print()\n",
    "    print(row['body'])\n",
    "    print()\n",
    "    print(row['label'])\n",
    "    print()"
   ]
  },
  {
   "cell_type": "markdown",
   "metadata": {},
   "source": [
    "Look at the temporal distribution (when were these posts written? How many per week?)"
   ]
  },
  {
   "cell_type": "code",
   "execution_count": 51,
   "metadata": {},
   "outputs": [
    {
     "data": {
      "text/plain": [
       "Text(0, 0.5, '#\\xa0of posts (weekly)')"
      ]
     },
     "execution_count": 51,
     "metadata": {},
     "output_type": "execute_result"
    },
    {
     "data": {
      "image/png": "[encoded data removed]",
      "text/plain": [
       "<Figure size 720x360 with 1 Axes>"
      ]
     },
     "metadata": {},
     "output_type": "display_data"
    }
   ],
   "source": [
    "ax = df_posts.set_index('created_at').resample('W').size().plot(figsize=(10, 5))\n",
    "ax.set_ylabel('# of posts (weekly)')"
   ]
  },
  {
   "cell_type": "markdown",
   "metadata": {},
   "source": [
    "Look at the labels and their prevalence"
   ]
  },
  {
   "cell_type": "code",
   "execution_count": 52,
   "metadata": {},
   "outputs": [
    {
     "data": {
      "text/plain": [
       "Text(0, 0.5, '# of posts')"
      ]
     },
     "execution_count": 52,
     "metadata": {},
     "output_type": "execute_result"
    },
    {
     "data": {
      "image/png": "[encoded data removed]",
      "text/plain": [
       "<Figure size 720x360 with 1 Axes>"
      ]
     },
     "metadata": {},
     "output_type": "display_data"
    }
   ],
   "source": [
    "ax = df_posts['label'].value_counts().plot(kind='bar', figsize=(10, 5))\n",
    "ax.set_ylabel('# of posts')"
   ]
  },
  {
   "cell_type": "code",
   "execution_count": null,
   "metadata": {},
   "outputs": [],
   "source": []
  },
  {
   "cell_type": "markdown",
   "metadata": {},
   "source": [
    "## Data Preprocessing\n",
    "\n",
    "The goal of preprocessing is to get raw text data into a form that we can use to train a machine learning model. In this example we are using a very commonly used approach know as a Bag of Words (BoW). The model is quite simple and doesn't take account of the order that words appear in, only whether they appear in the post or not.\n",
    "\n",
    "Text data is cleaned of superfluous information - for example punctuation and commonly used words know as 'stop words'. \n",
    "\n",
    "Text is also normalized in order to reduce the size of the effective vocabulary - e.g. by converting it to lower cases so that e.g. 'Live Conversation' and 'live conversation' are treated in the same way. \n",
    "\n",
    "Note that the value of some preprocessing step is highly dependent on the particular task and source of text, but many of the steps used here are commonly used in many applications with good results."
   ]
  },
  {
   "cell_type": "code",
   "execution_count": 54,
   "metadata": {},
   "outputs": [
    {
     "name": "stdout",
     "output_type": "stream",
     "text": [
      "\n",
      "I like painting so I was running down the road to buy some more paints. \n",
      "Unfortunately the shop was closed when I arrived!!??!\"\n",
      "\n"
     ]
    }
   ],
   "source": [
    "raw_text = \"\"\"\n",
    "I like painting so I was running down the road to buy some more paints. \n",
    "Unfortunately the shop was closed when I arrived!!??!\"\n",
    "\"\"\"\n",
    "print(raw_text)"
   ]
  },
  {
   "cell_type": "markdown",
   "metadata": {},
   "source": [
    "### Convert to lower (normalize)"
   ]
  },
  {
   "cell_type": "code",
   "execution_count": 62,
   "metadata": {},
   "outputs": [
    {
     "name": "stdout",
     "output_type": "stream",
     "text": [
      "\n",
      "i like painting so i was running down the road to buy some more paints. \n",
      "unfortunately the shop was closed when i arrived!!??!\"\n",
      "\n"
     ]
    }
   ],
   "source": [
    "raw_text_lower = raw_text.lower()\n",
    "print(raw_text_lower)"
   ]
  },
  {
   "cell_type": "markdown",
   "metadata": {},
   "source": [
    "### Remove punctuation"
   ]
  },
  {
   "cell_type": "code",
   "execution_count": 61,
   "metadata": {},
   "outputs": [
    {
     "name": "stdout",
     "output_type": "stream",
     "text": [
      "!\"#%&'()*+,-./:;<=>?@[\\]^_`{|}~\n"
     ]
    }
   ],
   "source": [
    "PUNCT_TO_REMOVE = string.punctuation.replace('$', '')\n",
    "print(PUNCT_TO_REMOVE)"
   ]
  },
  {
   "cell_type": "code",
   "execution_count": 63,
   "metadata": {},
   "outputs": [
    {
     "name": "stdout",
     "output_type": "stream",
     "text": [
      "\n",
      "i like painting so i was running down the road to buy some more paints \n",
      "unfortunately the shop was closed when i arrived\n",
      "\n"
     ]
    }
   ],
   "source": [
    "def remove_punctuation(text):\n",
    "    return text.translate(str.maketrans('', '', PUNCT_TO_REMOVE))\n",
    "\n",
    "raw_text_lower_np = remove_punctuation(raw_text_lower)\n",
    "print(raw_text_lower_np)"
   ]
  },
  {
   "cell_type": "code",
   "execution_count": null,
   "metadata": {},
   "outputs": [],
   "source": []
  }
 ],
 "metadata": {
  "kernelspec": {
   "display_name": "Python [conda env:usertesting]",
   "language": "python",
   "name": "conda-env-usertesting-py"
  },
  "language_info": {
   "codemirror_mode": {
    "name": "ipython",
    "version": 3
   },
   "file_extension": ".py",
   "mimetype": "text/x-python",
   "name": "python",
   "nbconvert_exporter": "python",
   "pygments_lexer": "ipython3",
   "version": "3.7.6"
  }
 },
 "nbformat": 4,
 "nbformat_minor": 4
}
