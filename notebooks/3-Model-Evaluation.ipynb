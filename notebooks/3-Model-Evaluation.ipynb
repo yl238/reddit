{
 "cells": [
  {
   "cell_type": "code",
   "execution_count": 1,
   "metadata": {},
   "outputs": [],
   "source": [
    "from libs import *"
   ]
  },
  {
   "cell_type": "markdown",
   "metadata": {},
   "source": [
    "# Model Evaluation and prediction\n",
    "In the previous notebook:\n",
    "- We built a ML model to predict Reddit comment category\n",
    "- We performed simple evaluation using the metrics `accuracy_score` and `confusion_matrix` from the scikit-learn library.\n",
    "\n",
    "In this notebook:\n",
    "- We will conduct in-depth analysis of the type of errors our model makes\n",
    "- Make predictions using new data"
   ]
  },
  {
   "cell_type": "markdown",
   "metadata": {},
   "source": [
    "Load trained model and test data:"
   ]
  },
  {
   "cell_type": "code",
   "execution_count": 4,
   "metadata": {},
   "outputs": [],
   "source": [
    "vectorizer_pipe = joblib.load('trained_models/vectorizer_pipe.pkl')\n",
    "rf_clf = joblib.load('trained_models/random_forest_classifier.pkl')"
   ]
  },
  {
   "cell_type": "code",
   "execution_count": 5,
   "metadata": {},
   "outputs": [],
   "source": [
    "X_test = joblib.load('datasets/X_test.pkl')\n",
    "y_test = joblib.load('datasets/y_test.pkl')"
   ]
  },
  {
   "cell_type": "code",
   "execution_count": null,
   "metadata": {},
   "outputs": [],
   "source": []
  }
 ],
 "metadata": {
  "kernelspec": {
   "display_name": "Python 3",
   "language": "python",
   "name": "python3"
  },
  "language_info": {
   "codemirror_mode": {
    "name": "ipython",
    "version": 3
   },
   "file_extension": ".py",
   "mimetype": "text/x-python",
   "name": "python",
   "nbconvert_exporter": "python",
   "pygments_lexer": "ipython3",
   "version": "3.7.7"
  }
 },
 "nbformat": 4,
 "nbformat_minor": 4
}
