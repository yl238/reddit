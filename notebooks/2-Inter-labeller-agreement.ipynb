{
 "cells": [
  {
   "cell_type": "markdown",
   "metadata": {},
   "source": [
    "# How do our labels match with the others?\n",
    "We can estimate this using Cohen's kappa score: https://scikit-learn.org/stable/modules/generated/sklearn.metrics.cohen_kappa_score.html"
   ]
  },
  {
   "cell_type": "code",
   "execution_count": 1,
   "metadata": {},
   "outputs": [
    {
     "name": "stderr",
     "output_type": "stream",
     "text": [
      "/Users/sliu/UserTesting/reddit/venv/lib/python3.7/importlib/_bootstrap.py:219: RuntimeWarning: numpy.ufunc size changed, may indicate binary incompatibility. Expected 192 from C header, got 216 from PyObject\n",
      "  return f(*args, **kwds)\n"
     ]
    }
   ],
   "source": [
    "import pandas as pd\n",
    "from sklearn.metrics import cohen_kappa_score"
   ]
  },
  {
   "cell_type": "code",
   "execution_count": 38,
   "metadata": {},
   "outputs": [],
   "source": [
    "file = 'Reddit Post Labelling - Posts.csv'\n",
    "df = pd.read_csv(file).iloc[:101, :]"
   ]
  },
  {
   "cell_type": "code",
   "execution_count": 36,
   "metadata": {},
   "outputs": [],
   "source": [
    "LABEL_COLS = ['category_jj', 'category_st', 'category_sl']"
   ]
  },
  {
   "cell_type": "markdown",
   "metadata": {},
   "source": [
    "Fill NaNs in the labels, lower case everything"
   ]
  },
  {
   "cell_type": "code",
   "execution_count": 51,
   "metadata": {},
   "outputs": [],
   "source": [
    "labelled = df[LABEL_COLS].fillna('other').apply(lambda x: x.str.lower())\n",
    "df[LABEL_COLS] = labelled"
   ]
  },
  {
   "cell_type": "code",
   "execution_count": 46,
   "metadata": {},
   "outputs": [],
   "source": [
    "df = pd.read_csv('../dataset/first_100_labelled.csv')"
   ]
  },
  {
   "cell_type": "code",
   "execution_count": 47,
   "metadata": {},
   "outputs": [
    {
     "data": {
      "text/plain": [
       "other         24\n",
       "bad test      16\n",
       "recorder      12\n",
       "live convo    11\n",
       "ratings       11\n",
       "mobile         9\n",
       "screeners      6\n",
       "payment        5\n",
       "bug            4\n",
       "no test        3\n",
       "Name: majority_vote, dtype: int64"
      ]
     },
     "execution_count": 47,
     "metadata": {},
     "output_type": "execute_result"
    }
   ],
   "source": [
    "df['majority_vote'].value_counts()"
   ]
  },
  {
   "cell_type": "code",
   "execution_count": 60,
   "metadata": {},
   "outputs": [],
   "source": [
    "def get_agreement(df, labeller1, labeller2):\n",
    "    score = cohen_kappa_score(df[labeller1], df[labeller2])\n",
    "    return f'kappa({labeller1}, {labeller2} = {score}'"
   ]
  },
  {
   "cell_type": "code",
   "execution_count": 61,
   "metadata": {},
   "outputs": [],
   "source": [
    "LABELLERS = LABEL_COLS + ['majority_vote']"
   ]
  },
  {
   "cell_type": "code",
   "execution_count": 62,
   "metadata": {},
   "outputs": [],
   "source": [
    "import itertools"
   ]
  },
  {
   "cell_type": "code",
   "execution_count": 66,
   "metadata": {},
   "outputs": [
    {
     "name": "stdout",
     "output_type": "stream",
     "text": [
      "kappa(category_jj, category_st = 0.5994868206204804\n",
      "kappa(category_jj, category_sl = 0.5998415213946118\n",
      "kappa(category_jj, majority_vote = 0.7206407744612194\n",
      "kappa(category_st, category_sl = 0.7042459736456809\n",
      "kappa(category_st, majority_vote = 0.8846900331088025\n",
      "kappa(category_sl, majority_vote = 0.8184065625351162\n"
     ]
    }
   ],
   "source": [
    "for i, j in itertools.combinations(LABELLERS, 2):\n",
    "    print(get_agreement(df, i, j))"
   ]
  }
 ],
 "metadata": {
  "kernelspec": {
   "display_name": "Python 3",
   "language": "python",
   "name": "python3"
  },
  "language_info": {
   "codemirror_mode": {
    "name": "ipython",
    "version": 3
   },
   "file_extension": ".py",
   "mimetype": "text/x-python",
   "name": "python",
   "nbconvert_exporter": "python",
   "pygments_lexer": "ipython3",
   "version": "3.7.7"
  }
 },
 "nbformat": 4,
 "nbformat_minor": 4
}
