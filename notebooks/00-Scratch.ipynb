{
 "cells": [
  {
   "cell_type": "code",
   "execution_count": 167,
   "metadata": {},
   "outputs": [],
   "source": [
    "import string\n",
    "import numpy as np\n",
    "import pandas as pd\n",
    "import spacy\n",
    "from sklearn.feature_extraction.text import CountVectorizer, TfidfVectorizer\n",
    "from sklearn.model_selection import cross_val_score\n",
    "from sklearn.ensemble import RandomForestClassifier\n",
    "from sklearn.metrics import confusion_matrix\n",
    "import matplotlib.pyplot as plt\n",
    "import seaborn as sns\n",
    "\n",
    "pd.set_option('display.max_colwidth', 100)"
   ]
  },
  {
   "cell_type": "code",
   "execution_count": 152,
   "metadata": {},
   "outputs": [
    {
     "name": "stdout",
     "output_type": "stream",
     "text": [
      "Requirement already satisfied: en_core_web_sm==2.3.1 from https://github.com/explosion/spacy-models/releases/download/en_core_web_sm-2.3.1/en_core_web_sm-2.3.1.tar.gz#egg=en_core_web_sm==2.3.1 in /Users/simonthorogood/opt/anaconda3/envs/reddit/lib/python3.8/site-packages (2.3.1)\n",
      "Requirement already satisfied: spacy<2.4.0,>=2.3.0 in /Users/simonthorogood/opt/anaconda3/envs/reddit/lib/python3.8/site-packages (from en_core_web_sm==2.3.1) (2.3.1)\n",
      "Requirement already satisfied: catalogue<1.1.0,>=0.0.7 in /Users/simonthorogood/opt/anaconda3/envs/reddit/lib/python3.8/site-packages (from spacy<2.4.0,>=2.3.0->en_core_web_sm==2.3.1) (1.0.0)\n",
      "Requirement already satisfied: tqdm<5.0.0,>=4.38.0 in /Users/simonthorogood/opt/anaconda3/envs/reddit/lib/python3.8/site-packages (from spacy<2.4.0,>=2.3.0->en_core_web_sm==2.3.1) (4.48.2)\n",
      "Requirement already satisfied: numpy>=1.15.0 in /Users/simonthorogood/opt/anaconda3/envs/reddit/lib/python3.8/site-packages (from spacy<2.4.0,>=2.3.0->en_core_web_sm==2.3.1) (1.19.1)\n",
      "Requirement already satisfied: preshed<3.1.0,>=3.0.2 in /Users/simonthorogood/opt/anaconda3/envs/reddit/lib/python3.8/site-packages (from spacy<2.4.0,>=2.3.0->en_core_web_sm==2.3.1) (3.0.2)\n",
      "Requirement already satisfied: requests<3.0.0,>=2.13.0 in /Users/simonthorogood/opt/anaconda3/envs/reddit/lib/python3.8/site-packages (from spacy<2.4.0,>=2.3.0->en_core_web_sm==2.3.1) (2.24.0)\n",
      "Requirement already satisfied: cymem<2.1.0,>=2.0.2 in /Users/simonthorogood/opt/anaconda3/envs/reddit/lib/python3.8/site-packages (from spacy<2.4.0,>=2.3.0->en_core_web_sm==2.3.1) (2.0.3)\n",
      "Requirement already satisfied: blis<0.5.0,>=0.4.0 in /Users/simonthorogood/opt/anaconda3/envs/reddit/lib/python3.8/site-packages (from spacy<2.4.0,>=2.3.0->en_core_web_sm==2.3.1) (0.4.1)\n",
      "Requirement already satisfied: srsly<1.1.0,>=1.0.2 in /Users/simonthorogood/opt/anaconda3/envs/reddit/lib/python3.8/site-packages (from spacy<2.4.0,>=2.3.0->en_core_web_sm==2.3.1) (1.0.2)\n",
      "Requirement already satisfied: murmurhash<1.1.0,>=0.28.0 in /Users/simonthorogood/opt/anaconda3/envs/reddit/lib/python3.8/site-packages (from spacy<2.4.0,>=2.3.0->en_core_web_sm==2.3.1) (1.0.2)\n",
      "Requirement already satisfied: wasabi<1.1.0,>=0.4.0 in /Users/simonthorogood/opt/anaconda3/envs/reddit/lib/python3.8/site-packages (from spacy<2.4.0,>=2.3.0->en_core_web_sm==2.3.1) (0.7.1)\n",
      "Requirement already satisfied: thinc==7.4.1 in /Users/simonthorogood/opt/anaconda3/envs/reddit/lib/python3.8/site-packages (from spacy<2.4.0,>=2.3.0->en_core_web_sm==2.3.1) (7.4.1)\n",
      "Requirement already satisfied: setuptools in /Users/simonthorogood/opt/anaconda3/envs/reddit/lib/python3.8/site-packages (from spacy<2.4.0,>=2.3.0->en_core_web_sm==2.3.1) (49.6.0.post20200814)\n",
      "Requirement already satisfied: plac<1.2.0,>=0.9.6 in /Users/simonthorogood/opt/anaconda3/envs/reddit/lib/python3.8/site-packages (from spacy<2.4.0,>=2.3.0->en_core_web_sm==2.3.1) (0.9.6)\n",
      "Requirement already satisfied: chardet<4,>=3.0.2 in /Users/simonthorogood/opt/anaconda3/envs/reddit/lib/python3.8/site-packages (from requests<3.0.0,>=2.13.0->spacy<2.4.0,>=2.3.0->en_core_web_sm==2.3.1) (3.0.4)\n",
      "Requirement already satisfied: urllib3!=1.25.0,!=1.25.1,<1.26,>=1.21.1 in /Users/simonthorogood/opt/anaconda3/envs/reddit/lib/python3.8/site-packages (from requests<3.0.0,>=2.13.0->spacy<2.4.0,>=2.3.0->en_core_web_sm==2.3.1) (1.25.10)\n",
      "Requirement already satisfied: idna<3,>=2.5 in /Users/simonthorogood/opt/anaconda3/envs/reddit/lib/python3.8/site-packages (from requests<3.0.0,>=2.13.0->spacy<2.4.0,>=2.3.0->en_core_web_sm==2.3.1) (2.10)\n",
      "Requirement already satisfied: certifi>=2017.4.17 in /Users/simonthorogood/opt/anaconda3/envs/reddit/lib/python3.8/site-packages (from requests<3.0.0,>=2.13.0->spacy<2.4.0,>=2.3.0->en_core_web_sm==2.3.1) (2020.6.20)\n",
      "\u001b[38;5;2m✔ Download and installation successful\u001b[0m\n",
      "You can now load the model via spacy.load('en_core_web_sm')\n"
     ]
    }
   ],
   "source": [
    "!python -m spacy download en_core_web_sm"
   ]
  },
  {
   "cell_type": "code",
   "execution_count": 84,
   "metadata": {},
   "outputs": [
    {
     "data": {
      "text/plain": [
       "(499, 8)"
      ]
     },
     "execution_count": 84,
     "metadata": {},
     "output_type": "execute_result"
    }
   ],
   "source": [
    "df.shape"
   ]
  },
  {
   "cell_type": "code",
   "execution_count": 106,
   "metadata": {},
   "outputs": [],
   "source": [
    "raw_file = '../src/reddit_raw_with_labels.csv'\n",
    "df = pd.read_csv(raw_file)\n",
    "df['label'] = df['majority_vote']\n",
    "df['label'] = df['label'].fillna(df['category_sl'])\n",
    "df['label'] = df['label'].astype('category')"
   ]
  },
  {
   "cell_type": "code",
   "execution_count": 93,
   "metadata": {},
   "outputs": [
    {
     "data": {
      "text/html": [
       "<div>\n",
       "<style scoped>\n",
       "    .dataframe tbody tr th:only-of-type {\n",
       "        vertical-align: middle;\n",
       "    }\n",
       "\n",
       "    .dataframe tbody tr th {\n",
       "        vertical-align: top;\n",
       "    }\n",
       "\n",
       "    .dataframe thead th {\n",
       "        text-align: right;\n",
       "    }\n",
       "</style>\n",
       "<table border=\"1\" class=\"dataframe\">\n",
       "  <thead>\n",
       "    <tr style=\"text-align: right;\">\n",
       "      <th></th>\n",
       "      <th>title</th>\n",
       "      <th>score</th>\n",
       "      <th>num_comments</th>\n",
       "      <th>created_at</th>\n",
       "      <th>body</th>\n",
       "      <th>category_sl</th>\n",
       "      <th>majority_vote</th>\n",
       "      <th>label</th>\n",
       "    </tr>\n",
       "  </thead>\n",
       "  <tbody>\n",
       "    <tr>\n",
       "      <th>0</th>\n",
       "      <td>Live conversation via phone</td>\n",
       "      <td>3</td>\n",
       "      <td>2</td>\n",
       "      <td>8/27/20 16:26</td>\n",
       "      <td>Hi guys I m quite confused. So i started this month. Since yesterday, i got 3 tests on my dashbo...</td>\n",
       "      <td>live convo</td>\n",
       "      <td>live convo</td>\n",
       "      <td>live convo</td>\n",
       "    </tr>\n",
       "    <tr>\n",
       "      <th>1</th>\n",
       "      <td>What's a test with the most steps you've ever got?</td>\n",
       "      <td>6</td>\n",
       "      <td>9</td>\n",
       "      <td>8/27/20 11:19</td>\n",
       "      <td>I got one with 57 steps a while back, and just did a 48 steps just now. Curious if anyone got an...</td>\n",
       "      <td>bad test</td>\n",
       "      <td>bad test</td>\n",
       "      <td>bad test</td>\n",
       "    </tr>\n",
       "    <tr>\n",
       "      <th>2</th>\n",
       "      <td>Preparing for Live Conversation</td>\n",
       "      <td>1</td>\n",
       "      <td>4</td>\n",
       "      <td>8/27/20 10:44</td>\n",
       "      <td>Hi! Iâ€™ve been scheduled for a Live Test on Aug 27 PDT (which is Aug 28 in my country) and itâ€...</td>\n",
       "      <td>live convo</td>\n",
       "      <td>live convo</td>\n",
       "      <td>live convo</td>\n",
       "    </tr>\n",
       "    <tr>\n",
       "      <th>3</th>\n",
       "      <td>Mobile Test</td>\n",
       "      <td>0</td>\n",
       "      <td>8</td>\n",
       "      <td>8/27/20 6:50</td>\n",
       "      <td>Hey yâ€™all...Iâ€™m about to take a test on my mobile device, please do yâ€™all use headphones f...</td>\n",
       "      <td>mobile</td>\n",
       "      <td>mobile</td>\n",
       "      <td>mobile</td>\n",
       "    </tr>\n",
       "    <tr>\n",
       "      <th>4</th>\n",
       "      <td>Curious about message</td>\n",
       "      <td>1</td>\n",
       "      <td>7</td>\n",
       "      <td>8/27/20 6:49</td>\n",
       "      <td>&amp;#x200B; [Anyone know what this is?](https://preview.redd.it/jqfjcozz3fj51.png?width=1283&amp;format...</td>\n",
       "      <td>other</td>\n",
       "      <td>other</td>\n",
       "      <td>other</td>\n",
       "    </tr>\n",
       "  </tbody>\n",
       "</table>\n",
       "</div>"
      ],
      "text/plain": [
       "                                                title  score  num_comments  \\\n",
       "0                         Live conversation via phone      3             2   \n",
       "1  What's a test with the most steps you've ever got?      6             9   \n",
       "2                     Preparing for Live Conversation      1             4   \n",
       "3                                         Mobile Test      0             8   \n",
       "4                               Curious about message      1             7   \n",
       "\n",
       "      created_at  \\\n",
       "0  8/27/20 16:26   \n",
       "1  8/27/20 11:19   \n",
       "2  8/27/20 10:44   \n",
       "3   8/27/20 6:50   \n",
       "4   8/27/20 6:49   \n",
       "\n",
       "                                                                                                  body  \\\n",
       "0  Hi guys I m quite confused. So i started this month. Since yesterday, i got 3 tests on my dashbo...   \n",
       "1  I got one with 57 steps a while back, and just did a 48 steps just now. Curious if anyone got an...   \n",
       "2  Hi! Iâ€™ve been scheduled for a Live Test on Aug 27 PDT (which is Aug 28 in my country) and itâ€...   \n",
       "3  Hey yâ€™all...Iâ€™m about to take a test on my mobile device, please do yâ€™all use headphones f...   \n",
       "4  &#x200B; [Anyone know what this is?](https://preview.redd.it/jqfjcozz3fj51.png?width=1283&format...   \n",
       "\n",
       "  category_sl majority_vote       label  \n",
       "0  live convo    live convo  live convo  \n",
       "1    bad test      bad test    bad test  \n",
       "2  live convo    live convo  live convo  \n",
       "3      mobile        mobile      mobile  \n",
       "4       other         other       other  "
      ]
     },
     "execution_count": 93,
     "metadata": {},
     "output_type": "execute_result"
    }
   ],
   "source": [
    "df.head()"
   ]
  },
  {
   "cell_type": "code",
   "execution_count": 228,
   "metadata": {},
   "outputs": [
    {
     "data": {
      "text/plain": [
       "bad test         0.155807\n",
       "screeners        0.147309\n",
       "ratings          0.121813\n",
       "recorder         0.118980\n",
       "live convo       0.116147\n",
       "mobile           0.107649\n",
       "no test          0.090652\n",
       "bug              0.082153\n",
       "payment          0.056657\n",
       "other company    0.002833\n",
       "other            0.000000\n",
       "Name: label, dtype: float64"
      ]
     },
     "execution_count": 228,
     "metadata": {},
     "output_type": "execute_result"
    }
   ],
   "source": [
    "df[df['label'] != 'other']['label'].value_counts(normalize=True)"
   ]
  },
  {
   "cell_type": "code",
   "execution_count": null,
   "metadata": {},
   "outputs": [],
   "source": []
  },
  {
   "cell_type": "code",
   "execution_count": 20,
   "metadata": {},
   "outputs": [],
   "source": [
    "raw_texts = df['title'].fillna(' ') + ' ' + df['body'].fillna(' ')"
   ]
  },
  {
   "cell_type": "code",
   "execution_count": 21,
   "metadata": {},
   "outputs": [
    {
     "data": {
      "text/plain": [
       "'Live conversation via phone Hi guys I m quite confused. So i started this month. Since yesterday, i got 3 tests on my dashboard saying \"you are scheduled for a live interview...use zoom on your phone bla bla\" Next to it, there is the phone icon yet when i clicked on the thing, i have to take a screener which all 3 times I failed which is disappointing. Anyways, is it normal they use this language \"you are scheduled\" which i m obviously not since i have to qualify 1st.'"
      ]
     },
     "execution_count": 21,
     "metadata": {},
     "output_type": "execute_result"
    }
   ],
   "source": [
    "raw_texts[0]"
   ]
  },
  {
   "cell_type": "code",
   "execution_count": 23,
   "metadata": {},
   "outputs": [],
   "source": [
    "texts = raw_texts.str.lower()"
   ]
  },
  {
   "cell_type": "code",
   "execution_count": 24,
   "metadata": {},
   "outputs": [
    {
     "data": {
      "text/plain": [
       "'live conversation via phone hi guys i m quite confused. so i started this month. since yesterday, i got 3 tests on my dashboard saying \"you are scheduled for a live interview...use zoom on your phone bla bla\" next to it, there is the phone icon yet when i clicked on the thing, i have to take a screener which all 3 times i failed which is disappointing. anyways, is it normal they use this language \"you are scheduled\" which i m obviously not since i have to qualify 1st.'"
      ]
     },
     "execution_count": 24,
     "metadata": {},
     "output_type": "execute_result"
    }
   ],
   "source": [
    "texts[0]"
   ]
  },
  {
   "cell_type": "code",
   "execution_count": 25,
   "metadata": {},
   "outputs": [
    {
     "data": {
      "text/plain": [
       "'!\"#%&\\'()*+,-./:;<=>?@[\\\\]^_`{|}~'"
      ]
     },
     "execution_count": 25,
     "metadata": {},
     "output_type": "execute_result"
    }
   ],
   "source": [
    "PUNCT_TO_REMOVE = string.punctuation.replace('$', '')\n",
    "PUNCT_TO_REMOVE"
   ]
  },
  {
   "cell_type": "code",
   "execution_count": 26,
   "metadata": {},
   "outputs": [
    {
     "data": {
      "text/plain": [
       "'live conversation via phone hi guys i m quite confused so i started this month since yesterday i got 3 tests on my dashboard saying you are scheduled for a live interviewuse zoom on your phone bla bla next to it there is the phone icon yet when i clicked on the thing i have to take a screener which all 3 times i failed which is disappointing anyways is it normal they use this language you are scheduled which i m obviously not since i have to qualify 1st'"
      ]
     },
     "execution_count": 26,
     "metadata": {},
     "output_type": "execute_result"
    }
   ],
   "source": [
    "def remove_punctuation(text):\n",
    "    return text.translate(str.maketrans('', '', PUNCT_TO_REMOVE))\n",
    "\n",
    "texts = texts.apply(remove_punctuation)\n",
    "texts[0]"
   ]
  },
  {
   "cell_type": "code",
   "execution_count": 27,
   "metadata": {},
   "outputs": [],
   "source": [
    "nlp = spacy.load(\"en_core_web_sm\")"
   ]
  },
  {
   "cell_type": "code",
   "execution_count": 32,
   "metadata": {},
   "outputs": [
    {
     "data": {
      "text/plain": [
       "0      live conversation via phone hi guys i m quite confused so i started this month since yesterday i...\n",
       "1      whats a test with the most steps youve ever got i got one with 57 steps a while back and just di...\n",
       "2      preparing for live conversation hi iâ€™ve been scheduled for a live test on aug 27 pdt which is ...\n",
       "3      mobile test hey yâ€™alliâ€™m about to take a test on my mobile device please do yâ€™all use head...\n",
       "4      curious about message x200b anyone know what this ishttpspreviewredditjqfjcozz3fj51pngwidth1283f...\n",
       "                                                      ...                                                 \n",
       "494    i now earn more with usertesting than my full time job i live in mexico working in it i earn 410...\n",
       "495    iphone issue  screener proceeds to next question with unfortunately you didnt qualify window ove...\n",
       "496    usertesting  test in progress for over 2days i took a reserved test on usertesting three days ag...\n",
       "497    received usertesting payment for first test but test hasnâ€™t been reviewed title  is this norma...\n",
       "498    tests for wrong country what do you do when you end up on a test which is blatantly for someone ...\n",
       "Length: 499, dtype: object"
      ]
     },
     "execution_count": 32,
     "metadata": {},
     "output_type": "execute_result"
    }
   ],
   "source": [
    "texts"
   ]
  },
  {
   "cell_type": "code",
   "execution_count": 97,
   "metadata": {},
   "outputs": [
    {
     "name": "stdout",
     "output_type": "stream",
     "text": [
      "live conversation phone hi guy m confused start month yesterday get 3 test dashboard say schedule live interviewuse zoom phone bla bla phone icon click thing screener 3 time fail disappointing anyways normal use language schedule m obviously qualify 1st\n"
     ]
    }
   ],
   "source": [
    "def get_tokens(text):\n",
    "    return \" \".join([t.lemma_ for t in nlp(text) if not t.is_stop])\n",
    "\n",
    "tokens = texts.apply(get_tokens)\n",
    "print(tokens[0])"
   ]
  },
  {
   "cell_type": "code",
   "execution_count": 194,
   "metadata": {},
   "outputs": [],
   "source": [
    "df['processed_text'] = tokens"
   ]
  },
  {
   "cell_type": "code",
   "execution_count": null,
   "metadata": {},
   "outputs": [],
   "source": []
  },
  {
   "cell_type": "code",
   "execution_count": 197,
   "metadata": {},
   "outputs": [
    {
     "name": "stdout",
     "output_type": "stream",
     "text": [
      "(282, 9) (71, 9)\n"
     ]
    }
   ],
   "source": [
    "def get_train_test(df):\n",
    "    df_labelled = df[~df['label'].isnull()].sort_values('created_at')\n",
    "    split_point = int(df_labelled.shape[0] * 0.8)\n",
    "    df_train = df_labelled[:split_point]\n",
    "    df_test = df_labelled[split_point:]\n",
    "    return df_train, df_test\n",
    "\n",
    "# Note: Excluding 'other' category\n",
    "df_train, df_test = get_train_test(df[df['label'] != 'other'])\n",
    "print(df_train.shape, df_test.shape)"
   ]
  },
  {
   "cell_type": "code",
   "execution_count": 207,
   "metadata": {},
   "outputs": [],
   "source": [
    "vectorizer = TfidfVectorizer(max_features=10000)"
   ]
  },
  {
   "cell_type": "code",
   "execution_count": 208,
   "metadata": {},
   "outputs": [
    {
     "name": "stdout",
     "output_type": "stream",
     "text": [
      "(282, 1789) (282,)\n",
      "(71, 1789) (71,)\n"
     ]
    }
   ],
   "source": [
    "X_train_vec = vectorizer.fit_transform(df_train['processed_text'])\n",
    "y_train = df_train['label'].values\n",
    "print(X_train_vec.shape, y_train.shape)\n",
    "\n",
    "X_test_vec = vectorizer.transform(df_test['processed_text'])\n",
    "y_test = df_test['label'].values\n",
    "print(X_test_vec.shape, y_test.shape)"
   ]
  },
  {
   "cell_type": "code",
   "execution_count": 219,
   "metadata": {},
   "outputs": [
    {
     "data": {
      "text/plain": [
       "RandomForestClassifier(min_samples_leaf=2, min_samples_split=5,\n",
       "                       n_estimators=200, random_state=100)"
      ]
     },
     "execution_count": 219,
     "metadata": {},
     "output_type": "execute_result"
    }
   ],
   "source": [
    "rf = RandomForestClassifier(random_state=100, n_estimators=200, min_samples_split=5, min_samples_leaf=2)\n",
    "rf.fit(X_train_vec, y_train)"
   ]
  },
  {
   "cell_type": "code",
   "execution_count": 220,
   "metadata": {},
   "outputs": [
    {
     "name": "stderr",
     "output_type": "stream",
     "text": [
      "/Users/simonthorogood/opt/anaconda3/envs/reddit/lib/python3.8/site-packages/sklearn/model_selection/_split.py:670: UserWarning: The least populated class in y has only 1 members, which is less than n_splits=3.\n",
      "  warnings.warn((\"The least populated class in y has only %d\"\n"
     ]
    },
    {
     "name": "stdout",
     "output_type": "stream",
     "text": [
      "Cross Val Score:  0.5957446808510639\n",
      "Train Score:  0.9716\n",
      "Test Score:  0.6761\n"
     ]
    }
   ],
   "source": [
    "print(\"Cross Val Score: \", cross_val_score(rf, X_train_vec, y_train, cv=3).mean())\n",
    "print(\"Train Score: \", round(rf.score(X_train_vec, y_train), 4))\n",
    "print(\"Test Score: \", round(rf.score(X_test_vec, y_test), 4))"
   ]
  },
  {
   "cell_type": "code",
   "execution_count": 221,
   "metadata": {},
   "outputs": [
    {
     "data": {
      "text/plain": [
       "array(['bad test', 'bug', 'live convo', 'mobile', 'no test',\n",
       "       'other company', 'payment', 'ratings', 'recorder', 'screeners'],\n",
       "      dtype=object)"
      ]
     },
     "execution_count": 221,
     "metadata": {},
     "output_type": "execute_result"
    }
   ],
   "source": [
    "rf.classes_"
   ]
  },
  {
   "cell_type": "code",
   "execution_count": 222,
   "metadata": {},
   "outputs": [
    {
     "data": {
      "text/plain": [
       "array(['ratings', 'screeners', 'bad test', 'bad test', 'ratings'],\n",
       "      dtype=object)"
      ]
     },
     "execution_count": 222,
     "metadata": {},
     "output_type": "execute_result"
    }
   ],
   "source": [
    "rf.predict(X_test_vec[0:5, :])"
   ]
  },
  {
   "cell_type": "code",
   "execution_count": 223,
   "metadata": {},
   "outputs": [
    {
     "data": {
      "text/plain": [
       "Text(87.0, 0.5, 'true label')"
      ]
     },
     "execution_count": 223,
     "metadata": {},
     "output_type": "execute_result"
    },
    {
     "data": {
      "image/png": "[encoded data removed]",
      "text/plain": [
       "<Figure size 864x720 with 2 Axes>"
      ]
     },
     "metadata": {
      "needs_background": "light"
     },
     "output_type": "display_data"
    }
   ],
   "source": [
    "cf = confusion_matrix(y_test, rf.predict(X_test_vec), labels=rf.classes_)\n",
    "df_cf = pd.DataFrame(cf, columns=rf.classes_, index=rf.classes_)\n",
    "fig, ax = plt.subplots(figsize=(12, 10))\n",
    "sns.heatmap(df_cf, ax=ax, annot=True)\n",
    "ax.set_xlabel('predicted label')\n",
    "ax.set_ylabel('true label')"
   ]
  },
  {
   "cell_type": "code",
   "execution_count": null,
   "metadata": {},
   "outputs": [],
   "source": []
  },
  {
   "cell_type": "code",
   "execution_count": null,
   "metadata": {},
   "outputs": [],
   "source": []
  },
  {
   "cell_type": "code",
   "execution_count": 54,
   "metadata": {},
   "outputs": [
    {
     "name": "stdout",
     "output_type": "stream",
     "text": [
      "['i', 'like', 'painting', 'so', 'i', 'was', 'running', 'down', 'the', 'road', 'to', 'buy', 'some', 'more', 'paints']\n"
     ]
    }
   ],
   "source": [
    "doc = nlp(\"I like painting so I was running down the road to buy some more paints\".lower())\n",
    "print(list([t.text for t in doc]))"
   ]
  },
  {
   "cell_type": "code",
   "execution_count": 58,
   "metadata": {},
   "outputs": [
    {
     "name": "stdout",
     "output_type": "stream",
     "text": [
      "['PRON', 'VERB', 'VERB', 'ADV', 'PRON', 'AUX', 'VERB', 'ADP', 'DET', 'NOUN', 'PART', 'VERB', 'DET', 'ADJ', 'NOUN']\n"
     ]
    }
   ],
   "source": [
    "print(list([t.pos_ for t in doc]))"
   ]
  },
  {
   "cell_type": "code",
   "execution_count": 55,
   "metadata": {},
   "outputs": [
    {
     "name": "stdout",
     "output_type": "stream",
     "text": [
      "['like', 'painting', 'running', 'road', 'buy', 'paints']\n"
     ]
    }
   ],
   "source": [
    "print(list([t.text for t in doc if not t.is_stop]))"
   ]
  },
  {
   "cell_type": "code",
   "execution_count": 53,
   "metadata": {},
   "outputs": [
    {
     "name": "stdout",
     "output_type": "stream",
     "text": [
      "['like', 'paint', 'run', 'road', 'buy', 'paint']\n"
     ]
    }
   ],
   "source": [
    "print(list([t.lemma_ for t in doc if not t.is_stop]))"
   ]
  },
  {
   "cell_type": "code",
   "execution_count": null,
   "metadata": {},
   "outputs": [],
   "source": []
  }
 ],
 "metadata": {
  "kernelspec": {
   "display_name": "Python 3",
   "language": "python",
   "name": "python3"
  },
  "language_info": {
   "codemirror_mode": {
    "name": "ipython",
    "version": 3
   },
   "file_extension": ".py",
   "mimetype": "text/x-python",
   "name": "python",
   "nbconvert_exporter": "python",
   "pygments_lexer": "ipython3",
   "version": "3.8.5"
  }
 },
 "nbformat": 4,
 "nbformat_minor": 4
}
