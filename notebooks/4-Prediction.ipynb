{
 "cells": [
  {
   "cell_type": "markdown",
   "metadata": {},
   "source": [
    "# Predicting categories of new posts\n",
    "Now we have built a model and evaluated its performance, it's now time to put it to use. We can download the latest posts from Reddit and predict what the users are talking about."
   ]
  },
  {
   "cell_type": "code",
   "execution_count": null,
   "metadata": {},
   "outputs": [],
   "source": [
    "from libs import *"
   ]
  },
  {
   "cell_type": "code",
   "execution_count": null,
   "metadata": {},
   "outputs": [],
   "source": [
    "vectorizer_pipe = joblib.load('trained_models/vectorizer_pipe.pkl')\n",
    "rf_clf = joblib.load('trained_models/random_forest_classifier.pkl')\n",
    "svc = joblib.load('trained_models/linear_svc.pkl')"
   ]
  },
  {
   "cell_type": "markdown",
   "metadata": {},
   "source": [
    "We use praw to scrape the latest posts (since `2020-08-28`)"
   ]
  },
  {
   "cell_type": "code",
   "execution_count": null,
   "metadata": {},
   "outputs": [],
   "source": [
    "pred_data = pd.read_csv('datasets/reddit_scrape_latest.csv')"
   ]
  },
  {
   "cell_type": "code",
   "execution_count": null,
   "metadata": {},
   "outputs": [],
   "source": [
    "from helpers import DatasetCreator\n",
    "creator = DatasetCreator(train=False)\n",
    "data = creator.transform(pred_data)"
   ]
  },
  {
   "cell_type": "markdown",
   "metadata": {},
   "source": [
    "Transform data using the `vectorizer_pipe`"
   ]
  },
  {
   "cell_type": "code",
   "execution_count": null,
   "metadata": {},
   "outputs": [],
   "source": [
    "X_pred = vectorizer_pipe.transform(data)"
   ]
  },
  {
   "cell_type": "markdown",
   "metadata": {},
   "source": [
    "Make predictions: we use both the `LinearSVC` model and the `Random Forest` model. We noted that SVC gave a better performance on the test set."
   ]
  },
  {
   "cell_type": "code",
   "execution_count": null,
   "metadata": {},
   "outputs": [],
   "source": [
    "data['svc_pred'] = svc.predict(X_pred)\n",
    "data['rf_pred'] = rf_clf.predict(X_pred)"
   ]
  },
  {
   "cell_type": "markdown",
   "metadata": {},
   "source": [
    "### Predictions\n",
    "We can look at these predictions and see what the models predicted, and how well they match what our perception of the categories should be."
   ]
  },
  {
   "cell_type": "code",
   "execution_count": null,
   "metadata": {},
   "outputs": [],
   "source": [
    "data['text'][16]"
   ]
  },
  {
   "cell_type": "code",
   "execution_count": null,
   "metadata": {},
   "outputs": [],
   "source": [
    "data[['text', 'svc_pred', 'rf_pred']][:10]"
   ]
  },
  {
   "cell_type": "code",
   "execution_count": null,
   "metadata": {},
   "outputs": [],
   "source": [
    "import matplotlib.pyplot as plt\n",
    "\n",
    "def plot_prob_bars(model, X_pred, row):\n",
    "    \"\"\"Plot prediction probabilities for RF models\"\"\"\n",
    "    pred_proba = model.predict_proba(X_pred)[row]\n",
    "    f, ax = plt.subplots(figsize=(10, 7))\n",
    "    ax.bar(range(len(pred_proba)), pred_proba, tick_label=model.classes_)\n",
    "    ax.set_ylabel('Predicted probability')\n",
    "    ax.set_xlabel('Predicted Class')\n",
    "    plt.xticks(rotation=45);"
   ]
  },
  {
   "cell_type": "code",
   "execution_count": null,
   "metadata": {},
   "outputs": [],
   "source": [
    "row = 33\n",
    "print(data['text'][row])\n",
    "plot_prob_bars(rf_clf, X_pred, row)"
   ]
  },
  {
   "cell_type": "markdown",
   "metadata": {},
   "source": [
    "### Statistics\n",
    "Proportions of different categories of posts since 2020-08-28 (Our training data was until 08/27)"
   ]
  },
  {
   "cell_type": "code",
   "execution_count": null,
   "metadata": {},
   "outputs": [],
   "source": [
    "f, ax = plt.subplots(figsize=(10, 6))\n",
    "pd.DataFrame(data['svc_pred'].value_counts()).plot.bar(ax=ax)\n",
    "ax.set_ylabel('Counts')\n",
    "ax.set_title('Number of posts since 2020-08-28')\n",
    "plt.xticks(rotation=45);"
   ]
  }
 ],
 "metadata": {
  "kernelspec": {
   "display_name": "Python 3",
   "language": "python",
   "name": "python3"
  },
  "language_info": {
   "codemirror_mode": {
    "name": "ipython",
    "version": 3
   },
   "file_extension": ".py",
   "mimetype": "text/x-python",
   "name": "python",
   "nbconvert_exporter": "python",
   "pygments_lexer": "ipython3",
   "version": "3.7.7"
  }
 },
 "nbformat": 4,
 "nbformat_minor": 4
}
